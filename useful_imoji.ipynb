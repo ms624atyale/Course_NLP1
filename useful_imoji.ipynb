{
  "nbformat": 4,
  "nbformat_minor": 0,
  "metadata": {
    "colab": {
      "provenance": [],
      "authorship_tag": "ABX9TyMCGj8GXw7WtWe3q1Pu5pkh",
      "include_colab_link": true
    },
    "kernelspec": {
      "name": "python3",
      "display_name": "Python 3"
    },
    "language_info": {
      "name": "python"
    }
  },
  "cells": [
    {
      "cell_type": "markdown",
      "metadata": {
        "id": "view-in-github",
        "colab_type": "text"
      },
      "source": [
        "<a href=\"https://colab.research.google.com/github/ms624atyale/Course_NLP1/blob/main/useful_imoji.ipynb\" target=\"_parent\"><img src=\"https://colab.research.google.com/assets/colab-badge.svg\" alt=\"Open In Colab\"/></a>"
      ]
    },
    {
      "cell_type": "markdown",
      "source": [
        "👀 🐾 🌀 🐶 🐤 🐠 🐟 🐳 🐬 🍄 👻 ☎️  📺 📢 ⏰ 🔍 📮 🔧 \n",
        "💊 ✂️ 📌 📎 📕  ⚾ ⚽ 🏀 🎾 🎯 \n",
        "☕ 🍔 🍟 🍗 🍤 🍱 🍣  🍩 🍦 🍞 🎂 🍰 \n",
        "🍏 🍓 🍎 🍉 🇰🇷 💈 🚗 🚙 🚫 \n",
        "1️⃣ 2️⃣ 3️⃣ 4️⃣ 5️⃣ 6️⃣ 7️⃣ 8️⃣ 9️⃣ 🔟\n",
        "⬇️ ⬅️ ➡️ ⬆️ 🅰️ 🅱️ 🆎 ❌ ⭕ ✅ 🆘 🚫"
      ],
      "metadata": {
        "id": "Rc8g-RBmWxC5"
      }
    },
    {
      "cell_type": "code",
      "execution_count": null,
      "metadata": {
        "id": "OOMpeYj6WvRA"
      },
      "outputs": [],
      "source": []
    }
  ]
}